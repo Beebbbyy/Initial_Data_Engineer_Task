{
  "nbformat": 4,
  "nbformat_minor": 0,
  "metadata": {
    "colab": {
      "provenance": [],
      "toc_visible": true,
      "authorship_tag": "ABX9TyP8W/ebHQS4Kch7cS81e0MD",
      "include_colab_link": true
    },
    "kernelspec": {
      "name": "python3",
      "display_name": "Python 3"
    },
    "language_info": {
      "name": "python"
    }
  },
  "cells": [
    {
      "cell_type": "markdown",
      "metadata": {
        "id": "view-in-github",
        "colab_type": "text"
      },
      "source": [
        "<a href=\"https://colab.research.google.com/github/Beebbbyy/Initial_Data_Engineer_Task/blob/main/Initial_Data_Task_Lacson.ipynb\" target=\"_parent\"><img src=\"https://colab.research.google.com/assets/colab-badge.svg\" alt=\"Open In Colab\"/></a>"
      ]
    },
    {
      "cell_type": "code",
      "source": [
        "!pip install pyspark"
      ],
      "metadata": {
        "id": "IdBQUQlOcart"
      },
      "execution_count": null,
      "outputs": []
    },
    {
      "cell_type": "code",
      "source": [
        "!apt-get install openjdk-11-jdk-headless -qq > /dev/null"
      ],
      "metadata": {
        "id": "iROl7P2GdHP1"
      },
      "execution_count": 5,
      "outputs": []
    },
    {
      "cell_type": "code",
      "source": [
        "import os\n",
        "os.environ[\"JAVA_HOME\"] = \"/usr/lib/jvm/java-11-openjdk-amd64\"\n"
      ],
      "metadata": {
        "id": "nvHkSnsudJJh"
      },
      "execution_count": 6,
      "outputs": []
    },
    {
      "cell_type": "code",
      "source": [
        "from pyspark.sql import SparkSession\n",
        "from pyspark.sql.functions import to_date, col, sum ,year, month\n",
        "\n",
        "spark = SparkSession.builder.master(\"local[*]\").appName(\"Data_Engineer_Task\").getOrCreate()\n"
      ],
      "metadata": {
        "id": "htGt89XWcbN_"
      },
      "execution_count": 64,
      "outputs": []
    },
    {
      "cell_type": "code",
      "source": [
        "path = \"/content/reference_data/yellow_tripdata_2023-01.parquet\"\n",
        "df_data = spark.read.option(\"header\", \"false\").parquet(path)\n",
        "df_data.createOrReplaceTempView(\"yellow_taxi_trip\")"
      ],
      "metadata": {
        "id": "7h8GVXzQcmu6"
      },
      "execution_count": 65,
      "outputs": []
    },
    {
      "cell_type": "code",
      "source": [
        "df_data.show()"
      ],
      "metadata": {
        "colab": {
          "base_uri": "https://localhost:8080/"
        },
        "id": "0s1BixnMdVNC",
        "outputId": "d5ed179c-717f-4c94-e18b-d1d0d7455485"
      },
      "execution_count": 66,
      "outputs": [
        {
          "output_type": "stream",
          "name": "stdout",
          "text": [
            "+--------+--------------------+---------------------+---------------+-------------+----------+------------------+------------+------------+------------+-----------+-----+-------+----------+------------+---------------------+------------+--------------------+-----------+\n",
            "|VendorID|tpep_pickup_datetime|tpep_dropoff_datetime|passenger_count|trip_distance|RatecodeID|store_and_fwd_flag|PULocationID|DOLocationID|payment_type|fare_amount|extra|mta_tax|tip_amount|tolls_amount|improvement_surcharge|total_amount|congestion_surcharge|airport_fee|\n",
            "+--------+--------------------+---------------------+---------------+-------------+----------+------------------+------------+------------+------------+-----------+-----+-------+----------+------------+---------------------+------------+--------------------+-----------+\n",
            "|       2| 2023-01-01 00:32:10|  2023-01-01 00:40:36|            1.0|         0.97|       1.0|                 N|         161|         141|           2|        9.3|  1.0|    0.5|       0.0|         0.0|                  1.0|        14.3|                 2.5|        0.0|\n",
            "|       2| 2023-01-01 00:55:08|  2023-01-01 01:01:27|            1.0|          1.1|       1.0|                 N|          43|         237|           1|        7.9|  1.0|    0.5|       4.0|         0.0|                  1.0|        16.9|                 2.5|        0.0|\n",
            "|       2| 2023-01-01 00:25:04|  2023-01-01 00:37:49|            1.0|         2.51|       1.0|                 N|          48|         238|           1|       14.9|  1.0|    0.5|      15.0|         0.0|                  1.0|        34.9|                 2.5|        0.0|\n",
            "|       1| 2023-01-01 00:03:48|  2023-01-01 00:13:25|            0.0|          1.9|       1.0|                 N|         138|           7|           1|       12.1| 7.25|    0.5|       0.0|         0.0|                  1.0|       20.85|                 0.0|       1.25|\n",
            "|       2| 2023-01-01 00:10:29|  2023-01-01 00:21:19|            1.0|         1.43|       1.0|                 N|         107|          79|           1|       11.4|  1.0|    0.5|      3.28|         0.0|                  1.0|       19.68|                 2.5|        0.0|\n",
            "|       2| 2023-01-01 00:50:34|  2023-01-01 01:02:52|            1.0|         1.84|       1.0|                 N|         161|         137|           1|       12.8|  1.0|    0.5|      10.0|         0.0|                  1.0|        27.8|                 2.5|        0.0|\n",
            "|       2| 2023-01-01 00:09:22|  2023-01-01 00:19:49|            1.0|         1.66|       1.0|                 N|         239|         143|           1|       12.1|  1.0|    0.5|      3.42|         0.0|                  1.0|       20.52|                 2.5|        0.0|\n",
            "|       2| 2023-01-01 00:27:12|  2023-01-01 00:49:56|            1.0|         11.7|       1.0|                 N|         142|         200|           1|       45.7|  1.0|    0.5|     10.74|         3.0|                  1.0|       64.44|                 2.5|        0.0|\n",
            "|       2| 2023-01-01 00:21:44|  2023-01-01 00:36:40|            1.0|         2.95|       1.0|                 N|         164|         236|           1|       17.7|  1.0|    0.5|      5.68|         0.0|                  1.0|       28.38|                 2.5|        0.0|\n",
            "|       2| 2023-01-01 00:39:42|  2023-01-01 00:50:36|            1.0|         3.01|       1.0|                 N|         141|         107|           2|       14.9|  1.0|    0.5|       0.0|         0.0|                  1.0|        19.9|                 2.5|        0.0|\n",
            "|       2| 2023-01-01 00:53:01|  2023-01-01 01:01:45|            1.0|          1.8|       1.0|                 N|         234|          68|           1|       11.4|  1.0|    0.5|      3.28|         0.0|                  1.0|       19.68|                 2.5|        0.0|\n",
            "|       1| 2023-01-01 00:43:37|  2023-01-01 01:17:18|            4.0|          7.3|       1.0|                 N|          79|         264|           1|       33.8|  3.5|    0.5|      7.75|         0.0|                  1.0|       46.55|                 2.5|        0.0|\n",
            "|       2| 2023-01-01 00:34:44|  2023-01-01 01:04:25|            1.0|         3.23|       1.0|                 N|         164|         143|           1|       26.1|  1.0|    0.5|      6.22|         0.0|                  1.0|       37.32|                 2.5|        0.0|\n",
            "|       2| 2023-01-01 00:09:29|  2023-01-01 00:29:23|            2.0|        11.43|       1.0|                 N|         138|          33|           1|       44.3|  6.0|    0.5|     13.26|         0.0|                  1.0|       66.31|                 0.0|       1.25|\n",
            "|       2| 2023-01-01 00:33:53|  2023-01-01 00:49:15|            1.0|         2.95|       1.0|                 N|          33|          61|           1|       17.7|  1.0|    0.5|      4.04|         0.0|                  1.0|       24.24|                 0.0|        0.0|\n",
            "|       2| 2023-01-01 00:13:04|  2023-01-01 00:22:10|            1.0|         1.52|       1.0|                 N|          79|         186|           1|       10.0|  1.0|    0.5|      1.25|         0.0|                  1.0|       16.25|                 2.5|        0.0|\n",
            "|       2| 2023-01-01 00:45:11|  2023-01-01 01:07:39|            1.0|         2.23|       1.0|                 N|          90|          48|           1|       19.8|  1.0|    0.5|      4.96|         0.0|                  1.0|       29.76|                 2.5|        0.0|\n",
            "|       1| 2023-01-01 00:04:33|  2023-01-01 00:19:22|            1.0|          4.5|       1.0|                 N|         113|         255|           1|       20.5|  3.5|    0.5|       4.0|         0.0|                  1.0|        29.5|                 2.5|        0.0|\n",
            "|       1| 2023-01-01 00:03:36|  2023-01-01 00:09:36|            3.0|          1.2|       1.0|                 N|         237|         239|           2|        8.6|  3.5|    0.5|       0.0|         0.0|                  1.0|        13.6|                 2.5|        0.0|\n",
            "|       1| 2023-01-01 00:15:23|  2023-01-01 00:29:41|            2.0|          2.5|       1.0|                 N|         143|         229|           2|       15.6|  3.5|    0.5|       0.0|         0.0|                  1.0|        20.6|                 2.5|        0.0|\n",
            "+--------+--------------------+---------------------+---------------+-------------+----------+------------------+------------+------------+------------+-----------+-----+-------+----------+------------+---------------------+------------+--------------------+-----------+\n",
            "only showing top 20 rows\n",
            "\n"
          ]
        }
      ]
    },
    {
      "cell_type": "code",
      "source": [
        "df_data.count()"
      ],
      "metadata": {
        "colab": {
          "base_uri": "https://localhost:8080/"
        },
        "id": "zLuKSkNjeqHk",
        "outputId": "4c836d6b-cc6f-4598-8aaf-9815b17f68e9"
      },
      "execution_count": 67,
      "outputs": [
        {
          "output_type": "execute_result",
          "data": {
            "text/plain": [
              "3066766"
            ]
          },
          "metadata": {},
          "execution_count": 67
        }
      ]
    },
    {
      "cell_type": "code",
      "source": [
        "cleaned_df = df_data.filter(df_data.passenger_count > 0)"
      ],
      "metadata": {
        "id": "awzN84_ReIPK"
      },
      "execution_count": 68,
      "outputs": []
    },
    {
      "cell_type": "code",
      "source": [
        "cleaned_df.count()"
      ],
      "metadata": {
        "colab": {
          "base_uri": "https://localhost:8080/"
        },
        "id": "62osLjt7en4c",
        "outputId": "a2bd99a0-7bf1-4fa7-8c94-eb5fc06d6e84"
      },
      "execution_count": 69,
      "outputs": [
        {
          "output_type": "execute_result",
          "data": {
            "text/plain": [
              "2943859"
            ]
          },
          "metadata": {},
          "execution_count": 69
        }
      ]
    },
    {
      "cell_type": "code",
      "source": [
        "cleaned_df.show()"
      ],
      "metadata": {
        "colab": {
          "base_uri": "https://localhost:8080/"
        },
        "id": "-w0C5XEumFs1",
        "outputId": "f145e49b-2a38-4b5b-d9be-8f0b226a71fe"
      },
      "execution_count": 70,
      "outputs": [
        {
          "output_type": "stream",
          "name": "stdout",
          "text": [
            "+--------+--------------------+---------------------+---------------+-------------+----------+------------------+------------+------------+------------+-----------+-----+-------+----------+------------+---------------------+------------+--------------------+-----------+\n",
            "|VendorID|tpep_pickup_datetime|tpep_dropoff_datetime|passenger_count|trip_distance|RatecodeID|store_and_fwd_flag|PULocationID|DOLocationID|payment_type|fare_amount|extra|mta_tax|tip_amount|tolls_amount|improvement_surcharge|total_amount|congestion_surcharge|airport_fee|\n",
            "+--------+--------------------+---------------------+---------------+-------------+----------+------------------+------------+------------+------------+-----------+-----+-------+----------+------------+---------------------+------------+--------------------+-----------+\n",
            "|       2| 2023-01-01 00:32:10|  2023-01-01 00:40:36|            1.0|         0.97|       1.0|                 N|         161|         141|           2|        9.3|  1.0|    0.5|       0.0|         0.0|                  1.0|        14.3|                 2.5|        0.0|\n",
            "|       2| 2023-01-01 00:55:08|  2023-01-01 01:01:27|            1.0|          1.1|       1.0|                 N|          43|         237|           1|        7.9|  1.0|    0.5|       4.0|         0.0|                  1.0|        16.9|                 2.5|        0.0|\n",
            "|       2| 2023-01-01 00:25:04|  2023-01-01 00:37:49|            1.0|         2.51|       1.0|                 N|          48|         238|           1|       14.9|  1.0|    0.5|      15.0|         0.0|                  1.0|        34.9|                 2.5|        0.0|\n",
            "|       2| 2023-01-01 00:10:29|  2023-01-01 00:21:19|            1.0|         1.43|       1.0|                 N|         107|          79|           1|       11.4|  1.0|    0.5|      3.28|         0.0|                  1.0|       19.68|                 2.5|        0.0|\n",
            "|       2| 2023-01-01 00:50:34|  2023-01-01 01:02:52|            1.0|         1.84|       1.0|                 N|         161|         137|           1|       12.8|  1.0|    0.5|      10.0|         0.0|                  1.0|        27.8|                 2.5|        0.0|\n",
            "|       2| 2023-01-01 00:09:22|  2023-01-01 00:19:49|            1.0|         1.66|       1.0|                 N|         239|         143|           1|       12.1|  1.0|    0.5|      3.42|         0.0|                  1.0|       20.52|                 2.5|        0.0|\n",
            "|       2| 2023-01-01 00:27:12|  2023-01-01 00:49:56|            1.0|         11.7|       1.0|                 N|         142|         200|           1|       45.7|  1.0|    0.5|     10.74|         3.0|                  1.0|       64.44|                 2.5|        0.0|\n",
            "|       2| 2023-01-01 00:21:44|  2023-01-01 00:36:40|            1.0|         2.95|       1.0|                 N|         164|         236|           1|       17.7|  1.0|    0.5|      5.68|         0.0|                  1.0|       28.38|                 2.5|        0.0|\n",
            "|       2| 2023-01-01 00:39:42|  2023-01-01 00:50:36|            1.0|         3.01|       1.0|                 N|         141|         107|           2|       14.9|  1.0|    0.5|       0.0|         0.0|                  1.0|        19.9|                 2.5|        0.0|\n",
            "|       2| 2023-01-01 00:53:01|  2023-01-01 01:01:45|            1.0|          1.8|       1.0|                 N|         234|          68|           1|       11.4|  1.0|    0.5|      3.28|         0.0|                  1.0|       19.68|                 2.5|        0.0|\n",
            "|       1| 2023-01-01 00:43:37|  2023-01-01 01:17:18|            4.0|          7.3|       1.0|                 N|          79|         264|           1|       33.8|  3.5|    0.5|      7.75|         0.0|                  1.0|       46.55|                 2.5|        0.0|\n",
            "|       2| 2023-01-01 00:34:44|  2023-01-01 01:04:25|            1.0|         3.23|       1.0|                 N|         164|         143|           1|       26.1|  1.0|    0.5|      6.22|         0.0|                  1.0|       37.32|                 2.5|        0.0|\n",
            "|       2| 2023-01-01 00:09:29|  2023-01-01 00:29:23|            2.0|        11.43|       1.0|                 N|         138|          33|           1|       44.3|  6.0|    0.5|     13.26|         0.0|                  1.0|       66.31|                 0.0|       1.25|\n",
            "|       2| 2023-01-01 00:33:53|  2023-01-01 00:49:15|            1.0|         2.95|       1.0|                 N|          33|          61|           1|       17.7|  1.0|    0.5|      4.04|         0.0|                  1.0|       24.24|                 0.0|        0.0|\n",
            "|       2| 2023-01-01 00:13:04|  2023-01-01 00:22:10|            1.0|         1.52|       1.0|                 N|          79|         186|           1|       10.0|  1.0|    0.5|      1.25|         0.0|                  1.0|       16.25|                 2.5|        0.0|\n",
            "|       2| 2023-01-01 00:45:11|  2023-01-01 01:07:39|            1.0|         2.23|       1.0|                 N|          90|          48|           1|       19.8|  1.0|    0.5|      4.96|         0.0|                  1.0|       29.76|                 2.5|        0.0|\n",
            "|       1| 2023-01-01 00:04:33|  2023-01-01 00:19:22|            1.0|          4.5|       1.0|                 N|         113|         255|           1|       20.5|  3.5|    0.5|       4.0|         0.0|                  1.0|        29.5|                 2.5|        0.0|\n",
            "|       1| 2023-01-01 00:03:36|  2023-01-01 00:09:36|            3.0|          1.2|       1.0|                 N|         237|         239|           2|        8.6|  3.5|    0.5|       0.0|         0.0|                  1.0|        13.6|                 2.5|        0.0|\n",
            "|       1| 2023-01-01 00:15:23|  2023-01-01 00:29:41|            2.0|          2.5|       1.0|                 N|         143|         229|           2|       15.6|  3.5|    0.5|       0.0|         0.0|                  1.0|        20.6|                 2.5|        0.0|\n",
            "|       1| 2023-01-01 00:51:45|  2023-01-01 00:58:18|            1.0|          1.4|       1.0|                 N|         137|          79|           1|        9.3|  3.5|    0.5|      2.85|         0.0|                  1.0|       17.15|                 2.5|        0.0|\n",
            "+--------+--------------------+---------------------+---------------+-------------+----------+------------------+------------+------------+------------+-----------+-----+-------+----------+------------+---------------------+------------+--------------------+-----------+\n",
            "only showing top 20 rows\n",
            "\n"
          ]
        }
      ]
    },
    {
      "cell_type": "code",
      "source": [
        "df_jan_2023 = cleaned_df.filter(\n",
        "    (year(\"tpep_pickup_datetime\") == 2023) &\n",
        "    (month(\"tpep_pickup_datetime\") == 1)\n",
        ")"
      ],
      "metadata": {
        "id": "qPHE-W4_n1ZN"
      },
      "execution_count": 73,
      "outputs": []
    },
    {
      "cell_type": "code",
      "source": [
        "df_jan_2023.count()"
      ],
      "metadata": {
        "colab": {
          "base_uri": "https://localhost:8080/"
        },
        "id": "eM7BHSrKp6Jv",
        "outputId": "b7ad4a86-56c4-4ece-9ea8-32b898bbf28b"
      },
      "execution_count": 74,
      "outputs": [
        {
          "output_type": "execute_result",
          "data": {
            "text/plain": [
              "2943811"
            ]
          },
          "metadata": {},
          "execution_count": 74
        }
      ]
    },
    {
      "cell_type": "code",
      "source": [
        "\n",
        "df_daily = df_jan_2023 \\\n",
        "    .withColumn(\"pickup_date\", to_date(col(\"tpep_pickup_datetime\"))) \\\n",
        "    .groupBy(\"pickup_date\") \\\n",
        "    .agg(sum(\"total_amount\").alias(\"total_daily_amount\")) \\\n",
        "    .orderBy(\"pickup_date\")\n"
      ],
      "metadata": {
        "id": "chv9ECb5oEFo"
      },
      "execution_count": 75,
      "outputs": []
    },
    {
      "cell_type": "code",
      "source": [
        "df_daily.show()"
      ],
      "metadata": {
        "colab": {
          "base_uri": "https://localhost:8080/"
        },
        "id": "bvHHNdzeo9Cu",
        "outputId": "88618074-0bca-44b2-d574-d88f4f34b5fb"
      },
      "execution_count": 76,
      "outputs": [
        {
          "output_type": "stream",
          "name": "stdout",
          "text": [
            "+-----------+------------------+\n",
            "|pickup_date|total_daily_amount|\n",
            "+-----------+------------------+\n",
            "| 2023-01-01|2189885.6699999967|\n",
            "| 2023-01-02| 1967393.840000033|\n",
            "| 2023-01-03| 2392886.720000032|\n",
            "| 2023-01-04| 2543884.820000009|\n",
            "| 2023-01-05|2626627.3800000194|\n",
            "| 2023-01-06| 2604590.010000047|\n",
            "| 2023-01-07|2565900.2700000154|\n",
            "| 2023-01-08|2318860.0600000173|\n",
            "| 2023-01-09|2277403.9600000414|\n",
            "| 2023-01-10| 2533210.980000057|\n",
            "| 2023-01-11|2663727.5700000226|\n",
            "| 2023-01-12|2919901.1700000027|\n",
            "| 2023-01-13| 2961962.449999937|\n",
            "| 2023-01-14|  2815487.86000002|\n",
            "| 2023-01-15|2506714.3900000094|\n",
            "| 2023-01-16|2217018.2199999886|\n",
            "| 2023-01-17|2706883.2600000487|\n",
            "| 2023-01-18|2748227.3300000727|\n",
            "| 2023-01-19|2916609.5399999917|\n",
            "| 2023-01-20| 2813714.110000008|\n",
            "+-----------+------------------+\n",
            "only showing top 20 rows\n",
            "\n"
          ]
        }
      ]
    },
    {
      "cell_type": "code",
      "source": [
        "result_pd = result_pd.sort_values(by='pickup_date')\n",
        "\n",
        "\n",
        "plt.figure(figsize=(12, 6))\n",
        "plt.bar(result_pd['pickup_date'], result_pd['total_daily_amount'], color='skyblue')\n",
        "plt.title('Total Taxi Fare Amount Per Day')\n",
        "plt.xlabel('Date')\n",
        "plt.ylabel('Total Daily Amount ($)')\n",
        "plt.xticks(rotation=45)\n",
        "plt.tight_layout()\n",
        "plt.show()\n"
      ],
      "metadata": {
        "colab": {
          "base_uri": "https://localhost:8080/",
          "height": 607
        },
        "id": "XeNr7sOlo_GC",
        "outputId": "5d7549dd-c286-4a8f-ab31-a9bcc6049a86"
      },
      "execution_count": 79,
      "outputs": [
        {
          "output_type": "display_data",
          "data": {
            "text/plain": [
              "<Figure size 1200x600 with 1 Axes>"
            ],
            "image/png": "[encoded data removed]"
          },
          "metadata": {}
        }
      ]
    },
    {
      "cell_type": "code",
      "source": [],
      "metadata": {
        "id": "ebhjGgh0pFIM"
      },
      "execution_count": null,
      "outputs": []
    }
  ]
}